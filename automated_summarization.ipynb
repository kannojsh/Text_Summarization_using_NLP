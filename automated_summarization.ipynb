{
 "cells": [
  {
   "cell_type": "markdown",
   "id": "4e70eed6",
   "metadata": {},
   "source": [
    "# Text summarization"
   ]
  },
  {
   "cell_type": "code",
   "execution_count": 42,
   "id": "1aa8b05d",
   "metadata": {},
   "outputs": [],
   "source": [
    "#take any text which has to be summarized\n",
    "text = \"\"\" Maria Sharapova has basically no friends as tennis players on the WTA Tour. The Russian player has no problems in openly speaking about it and in a recent interview she said: ‘I don’t really hide any feelings too much.\n",
    "I think everyone knows this is my job here. When I’m on the courts or when I’m on the court playing, I’m a competitor and I want to beat every single person whether they’re in the locker room or across the net.\n",
    "So I’m not the one to strike up a conversation about the weather and know that in the next few minutes I have to go and try to win a tennis match.\n",
    "I’m a pretty competitive girl. I say my hellos, but I’m not sending any players flowers as well. Uhm, I’m not really friendly or close to many players.\n",
    "I have not a lot of friends away from the courts.’ When she said she is not really close to a lot of players, is that something strategic that she is doing? Is it different on the men’s tour than the women’s tour? ‘No, not at all.\n",
    "I think just because you’re in the same sport doesn’t mean that you have to be friends with everyone just because you’re categorized, you’re a tennis player, so you’re going to get along with tennis players.\n",
    "I think every person has different interests. I have friends that have completely different jobs and interests, and I’ve met them in very different parts of my life.\n",
    "I think everyone just thinks because we’re tennis players we should be the greatest of friends. But ultimately tennis is just a very small part of what we do.\n",
    "There are so many other things that we’re interested in, that we do. \"\"\""
   ]
  },
  {
   "cell_type": "code",
   "execution_count": 43,
   "id": "730712e0",
   "metadata": {},
   "outputs": [
    {
     "data": {
      "text/plain": [
       "1563"
      ]
     },
     "execution_count": 43,
     "metadata": {},
     "output_type": "execute_result"
    }
   ],
   "source": [
    "#check the lenth of the text\n",
    "len(text)"
   ]
  },
  {
   "cell_type": "code",
   "execution_count": 44,
   "id": "59bdc6e4",
   "metadata": {},
   "outputs": [],
   "source": [
    "#import all the necesssary libraries\n",
    "import spacy\n",
    "from spacy.lang.en.stop_words import STOP_WORDS\n",
    "from string import punctuation"
   ]
  },
  {
   "cell_type": "code",
   "execution_count": 45,
   "id": "73c5b261",
   "metadata": {},
   "outputs": [],
   "source": [
    "#load the english library\n",
    "nlp = spacy.load(\"en_core_web_sm\")"
   ]
  },
  {
   "cell_type": "code",
   "execution_count": 8,
   "id": "860281cf",
   "metadata": {},
   "outputs": [],
   "source": [
    "doc = nlp(text)"
   ]
  },
  {
   "cell_type": "code",
   "execution_count": 9,
   "id": "f9fb780f",
   "metadata": {},
   "outputs": [
    {
     "name": "stdout",
     "output_type": "stream",
     "text": [
      "[' ', 'Maria', 'Sharapova', 'has', 'basically', 'no', 'friends', 'as', 'tennis', 'players', 'on', 'the', 'WTA', 'Tour', '.', 'The', 'Russian', 'player', 'has', 'no', 'problems', 'in', 'openly', 'speaking', 'about', 'it', 'and', 'in', 'a', 'recent', 'interview', 'she', 'said', ':', '‘', 'I', 'do', 'n’t', 'really', 'hide', 'any', 'feelings', 'too', 'much', '.', '\\n', 'I', 'think', 'everyone', 'knows', 'this', 'is', 'my', 'job', 'here', '.', 'When', 'I', '’m', 'on', 'the', 'courts', 'or', 'when', 'I', '’m', 'on', 'the', 'court', 'playing', ',', 'I', '’m', 'a', 'competitor', 'and', 'I', 'want', 'to', 'beat', 'every', 'single', 'person', 'whether', 'they', '’re', 'in', 'the', 'locker', 'room', 'or', 'across', 'the', 'net', '.', '\\n', 'So', 'I', '’m', 'not', 'the', 'one', 'to', 'strike', 'up', 'a', 'conversation', 'about', 'the', 'weather', 'and', 'know', 'that', 'in', 'the', 'next', 'few', 'minutes', 'I', 'have', 'to', 'go', 'and', 'try', 'to', 'win', 'a', 'tennis', 'match', '.', '\\n', 'I', '’m', 'a', 'pretty', 'competitive', 'girl', '.', 'I', 'say', 'my', 'hellos', ',', 'but', 'I', '’m', 'not', 'sending', 'any', 'players', 'flowers', 'as', 'well', '.', 'Uhm', ',', 'I', '’m', 'not', 'really', 'friendly', 'or', 'close', 'to', 'many', 'players', '.', '\\n', 'I', 'have', 'not', 'a', 'lot', 'of', 'friends', 'away', 'from', 'the', 'courts', '.', '’', 'When', 'she', 'said', 'she', 'is', 'not', 'really', 'close', 'to', 'a', 'lot', 'of', 'players', ',', 'is', 'that', 'something', 'strategic', 'that', 'she', 'is', 'doing', '?', 'Is', 'it', 'different', 'on', 'the', 'men', '’s', 'tour', 'than', 'the', 'women', '’s', 'tour', '?', '‘', 'No', ',', 'not', 'at', 'all', '.', '\\n', 'I', 'think', 'just', 'because', 'you', '’re', 'in', 'the', 'same', 'sport', 'does', 'n’t', 'mean', 'that', 'you', 'have', 'to', 'be', 'friends', 'with', 'everyone', 'just', 'because', 'you', '’re', 'categorized', ',', 'you', '’re', 'a', 'tennis', 'player', ',', 'so', 'you', '’re', 'going', 'to', 'get', 'along', 'with', 'tennis', 'players', '.', '\\n', 'I', 'think', 'every', 'person', 'has', 'different', 'interests', '.', 'I', 'have', 'friends', 'that', 'have', 'completely', 'different', 'jobs', 'and', 'interests', ',', 'and', 'I', '’ve', 'met', 'them', 'in', 'very', 'different', 'parts', 'of', 'my', 'life', '.', '\\n', 'I', 'think', 'everyone', 'just', 'thinks', 'because', 'we', '’re', 'tennis', 'players', 'we', 'should', 'be', 'the', 'greatest', 'of', 'friends', '.', 'But', 'ultimately', 'tennis', 'is', 'just', 'a', 'very', 'small', 'part', 'of', 'what', 'we', 'do', '.', '\\n', 'There', 'are', 'so', 'many', 'other', 'things', 'that', 'we', '’re', 'interested', 'in', ',', 'that', 'we', 'do', '.']\n"
     ]
    }
   ],
   "source": [
    "tokens = [token.text for token in doc]\n",
    "print(tokens)"
   ]
  },
  {
   "cell_type": "code",
   "execution_count": 10,
   "id": "c1739de5",
   "metadata": {},
   "outputs": [],
   "source": [
    "punctuation = punctuation + '/n'"
   ]
  },
  {
   "cell_type": "code",
   "execution_count": 11,
   "id": "6f514910",
   "metadata": {},
   "outputs": [
    {
     "data": {
      "text/plain": [
       "'!\"#$%&\\'()*+,-./:;<=>?@[\\\\]^_`{|}~/n'"
      ]
     },
     "execution_count": 11,
     "metadata": {},
     "output_type": "execute_result"
    }
   ],
   "source": [
    "punctuation"
   ]
  },
  {
   "cell_type": "code",
   "execution_count": 13,
   "id": "5bea8256",
   "metadata": {},
   "outputs": [],
   "source": [
    "word_freq = {}\n",
    "stop_words = list(STOP_WORDS)\n",
    "\n",
    "for word in doc:\n",
    "    if word.text.lower() not in stop_words:\n",
    "        if word.text.lower() not in punctuation:\n",
    "            if word.text not in word_freq.keys():\n",
    "                word_freq[word.text]=1\n",
    "            else:\n",
    "                word_freq[word.text]+=1\n"
   ]
  },
  {
   "cell_type": "code",
   "execution_count": 14,
   "id": "2ed92f74",
   "metadata": {},
   "outputs": [
    {
     "data": {
      "text/plain": [
       "{' ': 1,\n",
       " 'Maria': 1,\n",
       " 'Sharapova': 1,\n",
       " 'basically': 1,\n",
       " 'friends': 5,\n",
       " 'tennis': 6,\n",
       " 'players': 6,\n",
       " 'WTA': 1,\n",
       " 'Tour': 1,\n",
       " 'Russian': 1,\n",
       " 'player': 2,\n",
       " 'problems': 1,\n",
       " 'openly': 1,\n",
       " 'speaking': 1,\n",
       " 'recent': 1,\n",
       " 'interview': 1,\n",
       " 'said': 2,\n",
       " '‘': 2,\n",
       " 'hide': 1,\n",
       " 'feelings': 1,\n",
       " '\\n': 8,\n",
       " 'think': 4,\n",
       " 'knows': 1,\n",
       " 'job': 1,\n",
       " 'courts': 2,\n",
       " 'court': 1,\n",
       " 'playing': 1,\n",
       " 'competitor': 1,\n",
       " 'want': 1,\n",
       " 'beat': 1,\n",
       " 'single': 1,\n",
       " 'person': 2,\n",
       " 'locker': 1,\n",
       " 'room': 1,\n",
       " 'net': 1,\n",
       " 'strike': 1,\n",
       " 'conversation': 1,\n",
       " 'weather': 1,\n",
       " 'know': 1,\n",
       " 'minutes': 1,\n",
       " 'try': 1,\n",
       " 'win': 1,\n",
       " 'match': 1,\n",
       " 'pretty': 1,\n",
       " 'competitive': 1,\n",
       " 'girl': 1,\n",
       " 'hellos': 1,\n",
       " 'sending': 1,\n",
       " 'flowers': 1,\n",
       " 'Uhm': 1,\n",
       " 'friendly': 1,\n",
       " 'close': 2,\n",
       " 'lot': 2,\n",
       " 'away': 1,\n",
       " '’': 1,\n",
       " 'strategic': 1,\n",
       " 'different': 4,\n",
       " 'men': 1,\n",
       " 'tour': 2,\n",
       " 'women': 1,\n",
       " 'sport': 1,\n",
       " 'mean': 1,\n",
       " 'categorized': 1,\n",
       " 'going': 1,\n",
       " 'interests': 2,\n",
       " 'completely': 1,\n",
       " 'jobs': 1,\n",
       " 'met': 1,\n",
       " 'parts': 1,\n",
       " 'life': 1,\n",
       " 'thinks': 1,\n",
       " 'greatest': 1,\n",
       " 'ultimately': 1,\n",
       " 'small': 1,\n",
       " 'things': 1,\n",
       " 'interested': 1}"
      ]
     },
     "execution_count": 14,
     "metadata": {},
     "output_type": "execute_result"
    }
   ],
   "source": [
    "word_freq"
   ]
  },
  {
   "cell_type": "code",
   "execution_count": 20,
   "id": "ea5dd0a5",
   "metadata": {},
   "outputs": [],
   "source": [
    "max_freq =max(word_freq.values())"
   ]
  },
  {
   "cell_type": "code",
   "execution_count": 46,
   "id": "92d05a4b",
   "metadata": {},
   "outputs": [],
   "source": [
    "#normailize all the words\n",
    "for word in word_freq.keys():\n",
    "    word_freq[word] = word_freq[word] /max_freq"
   ]
  },
  {
   "cell_type": "code",
   "execution_count": 24,
   "id": "57e2589c",
   "metadata": {},
   "outputs": [
    {
     "name": "stdout",
     "output_type": "stream",
     "text": [
      "{' ': 0.015625, 'Maria': 0.015625, 'Sharapova': 0.015625, 'basically': 0.015625, 'friends': 0.078125, 'tennis': 0.09375, 'players': 0.09375, 'WTA': 0.015625, 'Tour': 0.015625, 'Russian': 0.015625, 'player': 0.03125, 'problems': 0.015625, 'openly': 0.015625, 'speaking': 0.015625, 'recent': 0.015625, 'interview': 0.015625, 'said': 0.03125, '‘': 0.03125, 'hide': 0.015625, 'feelings': 0.015625, '\\n': 0.125, 'think': 0.0625, 'knows': 0.015625, 'job': 0.015625, 'courts': 0.03125, 'court': 0.015625, 'playing': 0.015625, 'competitor': 0.015625, 'want': 0.015625, 'beat': 0.015625, 'single': 0.015625, 'person': 0.03125, 'locker': 0.015625, 'room': 0.015625, 'net': 0.015625, 'strike': 0.015625, 'conversation': 0.015625, 'weather': 0.015625, 'know': 0.015625, 'minutes': 0.015625, 'try': 0.015625, 'win': 0.015625, 'match': 0.015625, 'pretty': 0.015625, 'competitive': 0.015625, 'girl': 0.015625, 'hellos': 0.015625, 'sending': 0.015625, 'flowers': 0.015625, 'Uhm': 0.015625, 'friendly': 0.015625, 'close': 0.03125, 'lot': 0.03125, 'away': 0.015625, '’': 0.015625, 'strategic': 0.015625, 'different': 0.0625, 'men': 0.015625, 'tour': 0.03125, 'women': 0.015625, 'sport': 0.015625, 'mean': 0.015625, 'categorized': 0.015625, 'going': 0.015625, 'interests': 0.03125, 'completely': 0.015625, 'jobs': 0.015625, 'met': 0.015625, 'parts': 0.015625, 'life': 0.015625, 'thinks': 0.015625, 'greatest': 0.015625, 'ultimately': 0.015625, 'small': 0.015625, 'things': 0.015625, 'interested': 0.015625}\n"
     ]
    }
   ],
   "source": [
    "print(word_freq)"
   ]
  },
  {
   "cell_type": "code",
   "execution_count": 25,
   "id": "35b1afef",
   "metadata": {},
   "outputs": [
    {
     "name": "stdout",
     "output_type": "stream",
     "text": [
      "[ Maria Sharapova has basically no friends as tennis players on the WTA Tour., The Russian player has no problems in openly speaking about it and in a recent interview she said: ‘I don’t really hide any feelings too much., \n",
      ", I think everyone knows this is my job here., When I’m on the courts or when I’m on the court playing, I’m a competitor and I want to beat every single person whether they’re in the locker room or across the net., \n",
      ", So I’m not the one to strike up a conversation about the weather and know that in the next few minutes I have to go and try to win a tennis match., \n",
      ", I’m a pretty competitive girl., I say my hellos, but I’m not sending any players flowers as well., Uhm, I’m not really friendly or close to many players., \n",
      ", I have not a lot of friends away from the courts.’, When she said she is not really close to a lot of players, is that something strategic that she is doing?, Is it different on the men’s tour than the women’s tour?, ‘No, not at all., \n",
      ", I think just because you’re in the same sport doesn’t mean that you have to be friends with everyone just because you’re categorized, you’re a tennis player, so you’re going to get along with tennis players., \n",
      ", I think every person has different interests., I have friends that have completely different jobs and interests, and I’ve met them in very different parts of my life., \n",
      ", I think everyone just thinks because we’re tennis players we should be the greatest of friends., But ultimately tennis is just a very small part of what we do., \n",
      ", There are so many other things that we’re interested in, that we do.]\n"
     ]
    }
   ],
   "source": [
    "#Sentence tokenization\n",
    "\n",
    "sent_tokens = [sent for sent in doc.sents]\n",
    "print(sent_tokens)"
   ]
  },
  {
   "cell_type": "code",
   "execution_count": 27,
   "id": "603371d5",
   "metadata": {},
   "outputs": [],
   "source": [
    "sent_score = {}"
   ]
  },
  {
   "cell_type": "code",
   "execution_count": 47,
   "id": "af293132",
   "metadata": {},
   "outputs": [],
   "source": [
    "#assign score to all the sentences\n",
    "for sent in sent_tokens:\n",
    "    for word in sent:\n",
    "        if word.text.lower() in word_freq.keys():\n",
    "            if sent not in sent_score.keys():\n",
    "                sent_score[sent] = word_freq[word.text.lower()]\n",
    "            else:\n",
    "                sent_score[sent] += word_freq[word.text.lower()]"
   ]
  },
  {
   "cell_type": "code",
   "execution_count": 32,
   "id": "0f073026",
   "metadata": {},
   "outputs": [
    {
     "name": "stdout",
     "output_type": "stream",
     "text": [
      "{ Maria Sharapova has basically no friends as tennis players on the WTA Tour.: 0.328125, The Russian player has no problems in openly speaking about it and in a recent interview she said: ‘I don’t really hide any feelings too much.: 0.203125, \n",
      ": 0.125, I think everyone knows this is my job here.: 0.09375, When I’m on the courts or when I’m on the court playing, I’m a competitor and I want to beat every single person whether they’re in the locker room or across the net.: 0.203125, \n",
      ": 0.125, So I’m not the one to strike up a conversation about the weather and know that in the next few minutes I have to go and try to win a tennis match.: 0.21875, \n",
      ": 0.125, I’m a pretty competitive girl.: 0.046875, I say my hellos, but I’m not sending any players flowers as well.: 0.140625, Uhm, I’m not really friendly or close to many players.: 0.140625, \n",
      ": 0.125, I have not a lot of friends away from the courts.’: 0.171875, When she said she is not really close to a lot of players, is that something strategic that she is doing?: 0.203125, Is it different on the men’s tour than the women’s tour?: 0.15625, ‘No, not at all.: 0.03125, \n",
      ": 0.125, I think just because you’re in the same sport doesn’t mean that you have to be friends with everyone just because you’re categorized, you’re a tennis player, so you’re going to get along with tennis players.: 0.515625, \n",
      ": 0.125, I think every person has different interests.: 0.1875, I have friends that have completely different jobs and interests, and I’ve met them in very different parts of my life.: 0.3125, \n",
      ": 0.125, I think everyone just thinks because we’re tennis players we should be the greatest of friends.: 0.359375, But ultimately tennis is just a very small part of what we do.: 0.125, \n",
      ": 0.125, There are so many other things that we’re interested in, that we do.: 0.03125}\n"
     ]
    }
   ],
   "source": [
    "print(sent_score)"
   ]
  },
  {
   "cell_type": "code",
   "execution_count": 33,
   "id": "df84fe3b",
   "metadata": {},
   "outputs": [],
   "source": [
    "#select 30% of sentences with maximum score\n",
    "\n",
    "from heapq import nlargest"
   ]
  },
  {
   "cell_type": "code",
   "execution_count": 35,
   "id": "14f11be2",
   "metadata": {},
   "outputs": [
    {
     "data": {
      "text/plain": [
       "7.8"
      ]
     },
     "execution_count": 35,
     "metadata": {},
     "output_type": "execute_result"
    }
   ],
   "source": [
    "len(sent_score)*0.30"
   ]
  },
  {
   "cell_type": "code",
   "execution_count": 36,
   "id": "3044777c",
   "metadata": {},
   "outputs": [],
   "source": [
    "#getting the summary\n",
    "\n",
    "summary = nlargest(n=8, iterable=sent_score, key=sent_score.get)"
   ]
  },
  {
   "cell_type": "code",
   "execution_count": 37,
   "id": "d9861088",
   "metadata": {},
   "outputs": [
    {
     "name": "stdout",
     "output_type": "stream",
     "text": [
      "[I think just because you’re in the same sport doesn’t mean that you have to be friends with everyone just because you’re categorized, you’re a tennis player, so you’re going to get along with tennis players., I think everyone just thinks because we’re tennis players we should be the greatest of friends.,  Maria Sharapova has basically no friends as tennis players on the WTA Tour., I have friends that have completely different jobs and interests, and I’ve met them in very different parts of my life., So I’m not the one to strike up a conversation about the weather and know that in the next few minutes I have to go and try to win a tennis match., The Russian player has no problems in openly speaking about it and in a recent interview she said: ‘I don’t really hide any feelings too much., When I’m on the courts or when I’m on the court playing, I’m a competitor and I want to beat every single person whether they’re in the locker room or across the net., When she said she is not really close to a lot of players, is that something strategic that she is doing?]\n"
     ]
    }
   ],
   "source": [
    "print(summary)"
   ]
  },
  {
   "cell_type": "code",
   "execution_count": 38,
   "id": "c86c3579",
   "metadata": {},
   "outputs": [],
   "source": [
    "final_summary = [word.text for word in summary]"
   ]
  },
  {
   "cell_type": "code",
   "execution_count": 39,
   "id": "813a8100",
   "metadata": {},
   "outputs": [
    {
     "name": "stdout",
     "output_type": "stream",
     "text": [
      "['I think just because you’re in the same sport doesn’t mean that you have to be friends with everyone just because you’re categorized, you’re a tennis player, so you’re going to get along with tennis players.', 'I think everyone just thinks because we’re tennis players we should be the greatest of friends.', ' Maria Sharapova has basically no friends as tennis players on the WTA Tour.', 'I have friends that have completely different jobs and interests, and I’ve met them in very different parts of my life.', 'So I’m not the one to strike up a conversation about the weather and know that in the next few minutes I have to go and try to win a tennis match.', 'The Russian player has no problems in openly speaking about it and in a recent interview she said: ‘I don’t really hide any feelings too much.', 'When I’m on the courts or when I’m on the court playing, I’m a competitor and I want to beat every single person whether they’re in the locker room or across the net.', 'When she said she is not really close to a lot of players, is that something strategic that she is doing?']\n"
     ]
    }
   ],
   "source": [
    "print(final_summary)"
   ]
  },
  {
   "cell_type": "code",
   "execution_count": 40,
   "id": "0487a963",
   "metadata": {},
   "outputs": [],
   "source": [
    "summary = \" \".join(final_summary)"
   ]
  },
  {
   "cell_type": "code",
   "execution_count": 41,
   "id": "162cfb0a",
   "metadata": {},
   "outputs": [
    {
     "name": "stdout",
     "output_type": "stream",
     "text": [
      "I think just because you’re in the same sport doesn’t mean that you have to be friends with everyone just because you’re categorized, you’re a tennis player, so you’re going to get along with tennis players. I think everyone just thinks because we’re tennis players we should be the greatest of friends.  Maria Sharapova has basically no friends as tennis players on the WTA Tour. I have friends that have completely different jobs and interests, and I’ve met them in very different parts of my life. So I’m not the one to strike up a conversation about the weather and know that in the next few minutes I have to go and try to win a tennis match. The Russian player has no problems in openly speaking about it and in a recent interview she said: ‘I don’t really hide any feelings too much. When I’m on the courts or when I’m on the court playing, I’m a competitor and I want to beat every single person whether they’re in the locker room or across the net. When she said she is not really close to a lot of players, is that something strategic that she is doing?\n"
     ]
    }
   ],
   "source": [
    "print(summary)"
   ]
  },
  {
   "cell_type": "code",
   "execution_count": null,
   "id": "e07f8797",
   "metadata": {},
   "outputs": [],
   "source": []
  },
  {
   "cell_type": "code",
   "execution_count": null,
   "id": "16fb3a7f",
   "metadata": {},
   "outputs": [],
   "source": []
  },
  {
   "cell_type": "code",
   "execution_count": null,
   "id": "7a5321c5",
   "metadata": {},
   "outputs": [],
   "source": []
  },
  {
   "cell_type": "code",
   "execution_count": null,
   "id": "8290ed0c",
   "metadata": {},
   "outputs": [],
   "source": []
  },
  {
   "cell_type": "code",
   "execution_count": null,
   "id": "e0ea4cc1",
   "metadata": {},
   "outputs": [],
   "source": []
  },
  {
   "cell_type": "code",
   "execution_count": null,
   "id": "6a9602d5",
   "metadata": {},
   "outputs": [],
   "source": []
  },
  {
   "cell_type": "code",
   "execution_count": null,
   "id": "06e78ffc",
   "metadata": {},
   "outputs": [],
   "source": []
  },
  {
   "cell_type": "code",
   "execution_count": null,
   "id": "cd4340c1",
   "metadata": {},
   "outputs": [],
   "source": []
  },
  {
   "cell_type": "code",
   "execution_count": null,
   "id": "70648c8e",
   "metadata": {},
   "outputs": [],
   "source": []
  },
  {
   "cell_type": "code",
   "execution_count": null,
   "id": "22b4541f",
   "metadata": {},
   "outputs": [],
   "source": []
  },
  {
   "cell_type": "code",
   "execution_count": null,
   "id": "39771c76",
   "metadata": {},
   "outputs": [],
   "source": []
  },
  {
   "cell_type": "code",
   "execution_count": null,
   "id": "f15efed1",
   "metadata": {},
   "outputs": [],
   "source": []
  },
  {
   "cell_type": "code",
   "execution_count": null,
   "id": "cab9e3b7",
   "metadata": {},
   "outputs": [],
   "source": []
  },
  {
   "cell_type": "code",
   "execution_count": null,
   "id": "0285cd50",
   "metadata": {},
   "outputs": [],
   "source": []
  },
  {
   "cell_type": "code",
   "execution_count": null,
   "id": "3a292ec7",
   "metadata": {},
   "outputs": [],
   "source": []
  },
  {
   "cell_type": "code",
   "execution_count": null,
   "id": "38febefe",
   "metadata": {},
   "outputs": [],
   "source": []
  },
  {
   "cell_type": "code",
   "execution_count": null,
   "id": "8e64b832",
   "metadata": {},
   "outputs": [],
   "source": []
  },
  {
   "cell_type": "code",
   "execution_count": null,
   "id": "b5e96e3c",
   "metadata": {},
   "outputs": [],
   "source": []
  },
  {
   "cell_type": "code",
   "execution_count": null,
   "id": "fe03cffc",
   "metadata": {},
   "outputs": [],
   "source": []
  },
  {
   "cell_type": "code",
   "execution_count": null,
   "id": "f219f9b6",
   "metadata": {},
   "outputs": [],
   "source": []
  }
 ],
 "metadata": {
  "kernelspec": {
   "display_name": "Python 3",
   "language": "python",
   "name": "python3"
  },
  "language_info": {
   "codemirror_mode": {
    "name": "ipython",
    "version": 3
   },
   "file_extension": ".py",
   "mimetype": "text/x-python",
   "name": "python",
   "nbconvert_exporter": "python",
   "pygments_lexer": "ipython3",
   "version": "3.8.8"
  }
 },
 "nbformat": 4,
 "nbformat_minor": 5
}
